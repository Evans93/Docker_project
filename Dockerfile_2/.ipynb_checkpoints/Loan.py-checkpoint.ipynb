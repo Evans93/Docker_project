{
 "cells": [
  {
   "cell_type": "code",
   "execution_count": 1,
   "id": "fba90c6e",
   "metadata": {},
   "outputs": [
    {
     "name": "stdout",
     "output_type": "stream",
     "text": [
      "you are not eligible for this loan application\n"
     ]
    }
   ],
   "source": [
    "is_student = False\n",
    "salary = 800\n",
    "\n",
    "\n",
    "if (is_student == False) and (salary >= 2000):\n",
    "    print(\"you are eligible for this loan application\")\n",
    "else:\n",
    "    print(\"you are not eligible for this loan application\")"
   ]
  },
  {
   "cell_type": "code",
   "execution_count": null,
   "id": "5c002372",
   "metadata": {},
   "outputs": [],
   "source": []
  },
  {
   "cell_type": "code",
   "execution_count": 3,
   "id": "8176d06a",
   "metadata": {},
   "outputs": [
    {
     "name": "stdout",
     "output_type": "stream",
     "text": [
      "Are you a student, True or False:   True\n",
      "what is your monthly salary after tax:  3000\n",
      "you are not eligible for this loan application\n"
     ]
    }
   ],
   "source": [
    "student_status = input(\"Are you a student, True or False:   \")\n",
    "    \n",
    "salary = int(input(\"what is your monthly salary after tax:  \"))\n",
    "\n",
    "if (student_status == \"False\") and (salary >= 2000):\n",
    "    print(\"you are eligible for this loan application\")\n",
    "else:\n",
    "    print(\"you are not eligible for this loan application\")"
   ]
  },
  {
   "cell_type": "code",
   "execution_count": null,
   "id": "af391c97",
   "metadata": {},
   "outputs": [],
   "source": []
  },
  {
   "cell_type": "code",
   "execution_count": 8,
   "id": "3cf8f9ce",
   "metadata": {},
   "outputs": [],
   "source": [
    "names_of_customers_applied_for_loan = [\"evans, tope, abbey, mayowa, igwe, desmond, seyi\"]"
   ]
  },
  {
   "cell_type": "code",
   "execution_count": 9,
   "id": "2be02cf6",
   "metadata": {},
   "outputs": [
    {
     "name": "stdout",
     "output_type": "stream",
     "text": [
      "['evans, tope, abbey, mayowa, igwe, desmond, seyi']\n"
     ]
    }
   ],
   "source": [
    "print(names_of_customers_applied_for_loan)"
   ]
  },
  {
   "cell_type": "code",
   "execution_count": 15,
   "id": "c3a4840b",
   "metadata": {},
   "outputs": [],
   "source": [
    "names_of_customers_applied_for_loan.append(\"foli, dotun, niyi\")"
   ]
  },
  {
   "cell_type": "code",
   "execution_count": 16,
   "id": "31e4181d",
   "metadata": {},
   "outputs": [
    {
     "name": "stdout",
     "output_type": "stream",
     "text": [
      "['evans, tope, abbey, mayowa, igwe, desmond, seyi', 'foli, dotun, niyi', 'foli, dotun, niyi']\n"
     ]
    }
   ],
   "source": [
    "print(names_of_customers_applied_for_loan)"
   ]
  },
  {
   "cell_type": "code",
   "execution_count": 20,
   "id": "43a82e9a",
   "metadata": {},
   "outputs": [],
   "source": [
    "names_of_customers_applied_for_loan.append(\"wumi\")"
   ]
  },
  {
   "cell_type": "code",
   "execution_count": 21,
   "id": "b1a99409",
   "metadata": {},
   "outputs": [
    {
     "name": "stdout",
     "output_type": "stream",
     "text": [
      "['evans, tope, abbey, mayowa, igwe, desmond, seyi', 'foli, dotun, niyi', 'foli, dotun, niyi', 'wumi']\n"
     ]
    }
   ],
   "source": [
    "print(names_of_customers_applied_for_loan)"
   ]
  },
  {
   "cell_type": "code",
   "execution_count": null,
   "id": "c0f9a73f",
   "metadata": {},
   "outputs": [],
   "source": []
  },
  {
   "cell_type": "code",
   "execution_count": 27,
   "id": "57845640",
   "metadata": {},
   "outputs": [
    {
     "name": "stdout",
     "output_type": "stream",
     "text": [
      "<class 'list'>\n"
     ]
    }
   ],
   "source": [
    "print(type(names_of_customers_applied_for_loan))"
   ]
  },
  {
   "cell_type": "code",
   "execution_count": 28,
   "id": "f83797fd",
   "metadata": {},
   "outputs": [],
   "source": [
    "names_of_customers_applied_for_loan.append(\"abbey\")"
   ]
  },
  {
   "cell_type": "code",
   "execution_count": null,
   "id": "ad07c115",
   "metadata": {},
   "outputs": [],
   "source": []
  },
  {
   "cell_type": "code",
   "execution_count": 29,
   "id": "24b058a0",
   "metadata": {},
   "outputs": [],
   "source": [
    "convert_names_of_customers_applied_for_loan_to_list = list(names_of_customers_applied_for_loan)"
   ]
  },
  {
   "cell_type": "code",
   "execution_count": 30,
   "id": "91866e68",
   "metadata": {},
   "outputs": [
    {
     "name": "stdout",
     "output_type": "stream",
     "text": [
      "<class 'list'>\n"
     ]
    }
   ],
   "source": [
    "print(type(convert_names_of_customers_applied_for_loan_to_list))"
   ]
  },
  {
   "cell_type": "code",
   "execution_count": 31,
   "id": "a3e159f6",
   "metadata": {},
   "outputs": [
    {
     "name": "stdout",
     "output_type": "stream",
     "text": [
      "['evans, tope, abbey, mayowa, igwe, desmond, seyi', 'foli, dotun, niyi', 'foli, dotun, niyi', 'wumi', 'abbey']\n"
     ]
    }
   ],
   "source": [
    "print(convert_names_of_customers_applied_for_loan_to_list)"
   ]
  },
  {
   "cell_type": "code",
   "execution_count": 32,
   "id": "20bb02fe",
   "metadata": {},
   "outputs": [],
   "source": [
    "convert_names_of_customers_applied_for_loan_to_list.remove(\"abbey\")"
   ]
  },
  {
   "cell_type": "code",
   "execution_count": 33,
   "id": "2cf2d920",
   "metadata": {},
   "outputs": [
    {
     "name": "stdout",
     "output_type": "stream",
     "text": [
      "['evans, tope, abbey, mayowa, igwe, desmond, seyi', 'foli, dotun, niyi', 'foli, dotun, niyi', 'wumi']\n"
     ]
    }
   ],
   "source": [
    "print(convert_names_of_customers_applied_for_loan_to_list)"
   ]
  },
  {
   "cell_type": "code",
   "execution_count": 35,
   "id": "9d6001af",
   "metadata": {},
   "outputs": [],
   "source": [
    "convert_names_of_customers_applied_for_loan_to_list.append(\"ola\")"
   ]
  },
  {
   "cell_type": "code",
   "execution_count": 36,
   "id": "0b157331",
   "metadata": {},
   "outputs": [
    {
     "name": "stdout",
     "output_type": "stream",
     "text": [
      "['evans, tope, abbey, mayowa, igwe, desmond, seyi', 'foli, dotun, niyi', 'foli, dotun, niyi', 'wumi', 'ola']\n"
     ]
    }
   ],
   "source": [
    "print(convert_names_of_customers_applied_for_loan_to_list)"
   ]
  },
  {
   "cell_type": "code",
   "execution_count": null,
   "id": "776c57e7",
   "metadata": {},
   "outputs": [],
   "source": []
  },
  {
   "cell_type": "code",
   "execution_count": 50,
   "id": "52f1888e",
   "metadata": {},
   "outputs": [
    {
     "name": "stdout",
     "output_type": "stream",
     "text": [
      "5\n"
     ]
    }
   ],
   "source": [
    "print(len(convert_names_of_customers_applied_for_loan_to_list))"
   ]
  },
  {
   "cell_type": "code",
   "execution_count": null,
   "id": "de81e5d1",
   "metadata": {},
   "outputs": [],
   "source": []
  },
  {
   "cell_type": "code",
   "execution_count": null,
   "id": "450b956d",
   "metadata": {},
   "outputs": [],
   "source": []
  },
  {
   "cell_type": "code",
   "execution_count": 56,
   "id": "3d382c05",
   "metadata": {},
   "outputs": [],
   "source": [
    "total_amount_of_loan_collected_by_customers = [890, 32.98, 124.80, 632.00, 267.0, 458.09, 111.894, 500.89, 490.43]"
   ]
  },
  {
   "cell_type": "code",
   "execution_count": 57,
   "id": "ca85dfc1",
   "metadata": {},
   "outputs": [
    {
     "name": "stdout",
     "output_type": "stream",
     "text": [
      "<class 'list'>\n"
     ]
    }
   ],
   "source": [
    "print(type(total_amount_of_loan_collected_by_customers))"
   ]
  },
  {
   "cell_type": "code",
   "execution_count": 58,
   "id": "4e73fce1",
   "metadata": {},
   "outputs": [
    {
     "name": "stdout",
     "output_type": "stream",
     "text": [
      "[890, 32.98, 124.8, 632.0, 267.0, 458.09, 111.894, 500.89, 490.43]\n"
     ]
    }
   ],
   "source": [
    "print(total_amount_of_loan_collected_by_customers)"
   ]
  },
  {
   "cell_type": "code",
   "execution_count": 59,
   "id": "37f17227",
   "metadata": {},
   "outputs": [
    {
     "name": "stdout",
     "output_type": "stream",
     "text": [
      "9\n"
     ]
    }
   ],
   "source": [
    "print(len(total_amount_of_loan_collected_by_customers))"
   ]
  },
  {
   "cell_type": "code",
   "execution_count": 62,
   "id": "b9bf921b",
   "metadata": {},
   "outputs": [],
   "source": [
    "total_amount_of_loan_collected_by_customers.append(800.365)"
   ]
  },
  {
   "cell_type": "code",
   "execution_count": 63,
   "id": "c73fc0be",
   "metadata": {},
   "outputs": [],
   "source": [
    "total_amount_of_loan_collected_by_customers.append(395.11)"
   ]
  },
  {
   "cell_type": "code",
   "execution_count": 64,
   "id": "195193ae",
   "metadata": {},
   "outputs": [
    {
     "name": "stdout",
     "output_type": "stream",
     "text": [
      "[890, 32.98, 124.8, 632.0, 267.0, 458.09, 111.894, 500.89, 490.43, 800.365, 800.365, 395.11]\n"
     ]
    }
   ],
   "source": [
    "print(total_amount_of_loan_collected_by_customers)"
   ]
  },
  {
   "cell_type": "code",
   "execution_count": 65,
   "id": "60817c4c",
   "metadata": {},
   "outputs": [
    {
     "name": "stdout",
     "output_type": "stream",
     "text": [
      "12\n"
     ]
    }
   ],
   "source": [
    "print(len(total_amount_of_loan_collected_by_customers))"
   ]
  },
  {
   "cell_type": "code",
   "execution_count": 66,
   "id": "81b655ec",
   "metadata": {},
   "outputs": [],
   "source": [
    "total_amount_of_loan_collected_by_customers.remove(32.98)"
   ]
  },
  {
   "cell_type": "code",
   "execution_count": null,
   "id": "8efec034",
   "metadata": {},
   "outputs": [],
   "source": []
  },
  {
   "cell_type": "code",
   "execution_count": 69,
   "id": "0a5bc31e",
   "metadata": {},
   "outputs": [
    {
     "name": "stdout",
     "output_type": "stream",
     "text": [
      "[890, 124.8, 632.0, 267.0, 458.09]\n"
     ]
    }
   ],
   "source": [
    "print(total_amount_of_loan_collected_by_customers[0:5])"
   ]
  },
  {
   "cell_type": "code",
   "execution_count": 70,
   "id": "5dd902ab",
   "metadata": {},
   "outputs": [
    {
     "name": "stdout",
     "output_type": "stream",
     "text": [
      "[890, 124.8, 632.0]\n"
     ]
    }
   ],
   "source": [
    "print(total_amount_of_loan_collected_by_customers[:3])"
   ]
  },
  {
   "cell_type": "code",
   "execution_count": 71,
   "id": "9faf0847",
   "metadata": {},
   "outputs": [
    {
     "name": "stdout",
     "output_type": "stream",
     "text": [
      "[111.894, 500.89, 490.43, 800.365, 800.365, 395.11]\n"
     ]
    }
   ],
   "source": [
    "print(total_amount_of_loan_collected_by_customers[5:])"
   ]
  },
  {
   "cell_type": "code",
   "execution_count": null,
   "id": "3a40f547",
   "metadata": {},
   "outputs": [],
   "source": []
  },
  {
   "cell_type": "code",
   "execution_count": 72,
   "id": "6ebdb789",
   "metadata": {},
   "outputs": [],
   "source": [
    "convert_total_amount_of_loan_collected_by_customers_to_tuple =tuple(total_amount_of_loan_collected_by_customers)"
   ]
  },
  {
   "cell_type": "code",
   "execution_count": 73,
   "id": "38d65607",
   "metadata": {},
   "outputs": [
    {
     "name": "stdout",
     "output_type": "stream",
     "text": [
      "(890, 124.8, 632.0, 267.0, 458.09, 111.894, 500.89, 490.43, 800.365, 800.365, 395.11)\n"
     ]
    }
   ],
   "source": [
    "print(convert_total_amount_of_loan_collected_by_customers_to_tuple)"
   ]
  },
  {
   "cell_type": "code",
   "execution_count": 74,
   "id": "12803b41",
   "metadata": {},
   "outputs": [
    {
     "name": "stdout",
     "output_type": "stream",
     "text": [
      "<class 'tuple'>\n"
     ]
    }
   ],
   "source": [
    "print(type(convert_total_amount_of_loan_collected_by_customers_to_tuple))"
   ]
  },
  {
   "cell_type": "code",
   "execution_count": null,
   "id": "b3e43e33",
   "metadata": {},
   "outputs": [],
   "source": []
  },
  {
   "cell_type": "code",
   "execution_count": null,
   "id": "67a3b22d",
   "metadata": {},
   "outputs": [],
   "source": []
  },
  {
   "cell_type": "code",
   "execution_count": 2,
   "id": "fda6f5cd",
   "metadata": {},
   "outputs": [],
   "source": [
    "product_price = 2000\n",
    "\n",
    "\n",
    "customer_payment = 1000\n",
    "\n"
   ]
  },
  {
   "cell_type": "code",
   "execution_count": 3,
   "id": "345b800f",
   "metadata": {},
   "outputs": [
    {
     "name": "stdout",
     "output_type": "stream",
     "text": [
      "<class 'int'>\n"
     ]
    }
   ],
   "source": [
    "print(type(product_price))"
   ]
  },
  {
   "cell_type": "code",
   "execution_count": null,
   "id": "75abfda8",
   "metadata": {},
   "outputs": [],
   "source": []
  },
  {
   "cell_type": "code",
   "execution_count": 19,
   "id": "58daa628",
   "metadata": {},
   "outputs": [
    {
     "name": "stdout",
     "output_type": "stream",
     "text": [
      "how much do you have for your product 40000\n",
      "your request has been Denied\n"
     ]
    }
   ],
   "source": [
    "product_price = 2000\n",
    "\n",
    "customer_payment = 1000\n",
    "\n",
    "input(\"how much do you have for your product \")\n",
    "\n",
    "\n",
    "if customer_payment >= product_price:\n",
    "    \n",
    "    print(\"you are permited to purchase this item\" )\n",
    "    \n",
    "else:\n",
    "    print(\"your request has been Denied\")\n"
   ]
  },
  {
   "cell_type": "code",
   "execution_count": null,
   "id": "4eda9513",
   "metadata": {},
   "outputs": [],
   "source": []
  },
  {
   "cell_type": "code",
   "execution_count": 21,
   "id": "49dc4525",
   "metadata": {},
   "outputs": [
    {
     "name": "stdout",
     "output_type": "stream",
     "text": [
      "how old are you    23\n",
      "Congratulations you are qualified to apply for this loan\n"
     ]
    }
   ],
   "source": [
    "amount_of_bank_loan_allowed = 20000\n",
    "\n",
    "student_age_allowed_to_apply = 20\n",
    "\n",
    "input(\"how old are you    \")\n",
    "\n",
    "if student_age_allowed_to_apply < 20:\n",
    "    print(\"you are not qualified for this loan\")\n",
    "    \n",
    "else:\n",
    "    \n",
    "    print(\"Congratulations you are qualified to apply for this loan\")"
   ]
  },
  {
   "cell_type": "code",
   "execution_count": null,
   "id": "b1c2ce6e",
   "metadata": {},
   "outputs": [],
   "source": []
  }
 ],
 "metadata": {
  "kernelspec": {
   "display_name": "Python 3 (ipykernel)",
   "language": "python",
   "name": "python3"
  },
  "language_info": {
   "codemirror_mode": {
    "name": "ipython",
    "version": 3
   },
   "file_extension": ".py",
   "mimetype": "text/x-python",
   "name": "python",
   "nbconvert_exporter": "python",
   "pygments_lexer": "ipython3",
   "version": "3.10.4"
  }
 },
 "nbformat": 4,
 "nbformat_minor": 5
}
