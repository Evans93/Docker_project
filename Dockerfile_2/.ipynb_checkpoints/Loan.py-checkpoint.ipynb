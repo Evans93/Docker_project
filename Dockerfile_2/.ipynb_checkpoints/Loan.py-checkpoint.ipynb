{
 "cells": [
  {
   "cell_type": "code",
   "execution_count": 3,
   "id": "fba90c6e",
   "metadata": {},
   "outputs": [
    {
     "name": "stdout",
     "output_type": "stream",
     "text": [
      "you are not eligible for this loan application\n"
     ]
    }
   ],
   "source": [
    "is_student = False\n",
    "salary = 800\n",
    "\n",
    "\n",
    "if (is_student == False) and (salary >= 2000):\n",
    "    print(\"you are eligible for this loan application\")\n",
    "else:\n",
    "    print(\"you are not eligible for this loan application\")"
   ]
  },
  {
   "cell_type": "code",
   "execution_count": null,
   "id": "5c002372",
   "metadata": {},
   "outputs": [],
   "source": []
  },
  {
   "cell_type": "code",
   "execution_count": 4,
   "id": "8176d06a",
   "metadata": {},
   "outputs": [],
   "source": [
    "student_status = input(\"Are you a student, True or False:   \")\n",
    "    \n",
    "salary = int(input(\"what is your monthly salary after tax:  \"))\n",
    "\n",
    "if (student_status == \"False\") and (salary >= 2000):\n",
    "    print(\"you are eligible for this loan application\")\n",
    "else:\n",
    "    print(\"you are not eligible for this loan application\")"
   ]
  },
  {
   "cell_type": "code",
   "execution_count": null,
   "id": "af391c97",
   "metadata": {},
   "outputs": [],
   "source": []
  },
  {
   "cell_type": "code",
   "execution_count": null,
   "id": "3cf8f9ce",
   "metadata": {},
   "outputs": [],
   "source": [
    "names_of_customers_applied_for_loan = [\"evans, tope, abbey, mayowa, igwe, desmond, seyi\"]"
   ]
  },
  {
   "cell_type": "code",
   "execution_count": null,
   "id": "2be02cf6",
   "metadata": {},
   "outputs": [
    {
     "name": "stdout",
     "output_type": "stream",
     "text": [
      "['evans, tope, abbey, mayowa, igwe, desmond, seyi']\n"
     ]
    }
   ],
   "source": [
    "print(names_of_customers_applied_for_loan)"
   ]
  },
  {
   "cell_type": "code",
   "execution_count": null,
   "id": "c3a4840b",
   "metadata": {},
   "outputs": [],
   "source": [
    "names_of_customers_applied_for_loan.append(\"foli, dotun, niyi\")"
   ]
  },
  {
   "cell_type": "code",
   "execution_count": null,
   "id": "31e4181d",
   "metadata": {},
   "outputs": [
    {
     "name": "stdout",
     "output_type": "stream",
     "text": [
      "['evans, tope, abbey, mayowa, igwe, desmond, seyi', 'foli, dotun, niyi', 'foli, dotun, niyi']\n"
     ]
    }
   ],
   "source": [
    "print(names_of_customers_applied_for_loan)"
   ]
  },
  {
   "cell_type": "code",
   "execution_count": null,
   "id": "43a82e9a",
   "metadata": {},
   "outputs": [],
   "source": [
    "names_of_customers_applied_for_loan.append(\"wumi\")"
   ]
  },
  {
   "cell_type": "code",
   "execution_count": null,
   "id": "b1a99409",
   "metadata": {},
   "outputs": [
    {
     "name": "stdout",
     "output_type": "stream",
     "text": [
      "['evans, tope, abbey, mayowa, igwe, desmond, seyi', 'foli, dotun, niyi', 'foli, dotun, niyi', 'wumi']\n"
     ]
    }
   ],
   "source": [
    "print(names_of_customers_applied_for_loan)"
   ]
  },
  {
   "cell_type": "code",
   "execution_count": null,
   "id": "c0f9a73f",
   "metadata": {},
   "outputs": [],
   "source": []
  },
  {
   "cell_type": "code",
   "execution_count": null,
   "id": "57845640",
   "metadata": {},
   "outputs": [
    {
     "name": "stdout",
     "output_type": "stream",
     "text": [
      "<class 'list'>\n"
     ]
    }
   ],
   "source": [
    "print(type(names_of_customers_applied_for_loan))"
   ]
  },
  {
   "cell_type": "code",
   "execution_count": null,
   "id": "f83797fd",
   "metadata": {},
   "outputs": [],
   "source": [
    "names_of_customers_applied_for_loan.append(\"abbey\")"
   ]
  },
  {
   "cell_type": "code",
   "execution_count": null,
   "id": "ad07c115",
   "metadata": {},
   "outputs": [],
   "source": []
  },
  {
   "cell_type": "code",
   "execution_count": null,
   "id": "24b058a0",
   "metadata": {},
   "outputs": [],
   "source": [
    "convert_names_of_customers_applied_for_loan_to_list = list(names_of_customers_applied_for_loan)"
   ]
  },
  {
   "cell_type": "code",
   "execution_count": null,
   "id": "91866e68",
   "metadata": {},
   "outputs": [
    {
     "name": "stdout",
     "output_type": "stream",
     "text": [
      "<class 'list'>\n"
     ]
    }
   ],
   "source": [
    "print(type(convert_names_of_customers_applied_for_loan_to_list))"
   ]
  },
  {
   "cell_type": "code",
   "execution_count": null,
   "id": "a3e159f6",
   "metadata": {},
   "outputs": [
    {
     "name": "stdout",
     "output_type": "stream",
     "text": [
      "['evans, tope, abbey, mayowa, igwe, desmond, seyi', 'foli, dotun, niyi', 'foli, dotun, niyi', 'wumi', 'abbey']\n"
     ]
    }
   ],
   "source": [
    "print(convert_names_of_customers_applied_for_loan_to_list)"
   ]
  },
  {
   "cell_type": "code",
   "execution_count": null,
   "id": "20bb02fe",
   "metadata": {},
   "outputs": [],
   "source": [
    "convert_names_of_customers_applied_for_loan_to_list.remove(\"abbey\")"
   ]
  },
  {
   "cell_type": "code",
   "execution_count": null,
   "id": "2cf2d920",
   "metadata": {},
   "outputs": [
    {
     "name": "stdout",
     "output_type": "stream",
     "text": [
      "['evans, tope, abbey, mayowa, igwe, desmond, seyi', 'foli, dotun, niyi', 'foli, dotun, niyi', 'wumi']\n"
     ]
    }
   ],
   "source": [
    "print(convert_names_of_customers_applied_for_loan_to_list)"
   ]
  },
  {
   "cell_type": "code",
   "execution_count": null,
   "id": "9d6001af",
   "metadata": {},
   "outputs": [],
   "source": [
    "convert_names_of_customers_applied_for_loan_to_list.append(\"ola\")"
   ]
  },
  {
   "cell_type": "code",
   "execution_count": null,
   "id": "0b157331",
   "metadata": {},
   "outputs": [
    {
     "name": "stdout",
     "output_type": "stream",
     "text": [
      "['evans, tope, abbey, mayowa, igwe, desmond, seyi', 'foli, dotun, niyi', 'foli, dotun, niyi', 'wumi', 'ola']\n"
     ]
    }
   ],
   "source": [
    "print(convert_names_of_customers_applied_for_loan_to_list)"
   ]
  },
  {
   "cell_type": "code",
   "execution_count": null,
   "id": "776c57e7",
   "metadata": {},
   "outputs": [],
   "source": []
  },
  {
   "cell_type": "code",
   "execution_count": null,
   "id": "52f1888e",
   "metadata": {},
   "outputs": [
    {
     "name": "stdout",
     "output_type": "stream",
     "text": [
      "5\n"
     ]
    }
   ],
   "source": [
    "print(len(convert_names_of_customers_applied_for_loan_to_list))"
   ]
  },
  {
   "cell_type": "code",
   "execution_count": null,
   "id": "de81e5d1",
   "metadata": {},
   "outputs": [],
   "source": []
  },
  {
   "cell_type": "code",
   "execution_count": null,
   "id": "450b956d",
   "metadata": {},
   "outputs": [],
   "source": []
  },
  {
   "cell_type": "code",
   "execution_count": null,
   "id": "3d382c05",
   "metadata": {},
   "outputs": [],
   "source": [
    "total_amount_of_loan_collected_by_customers = [890, 32.98, 124.80, 632.00, 267.0, 458.09, 111.894, 500.89, 490.43]"
   ]
  },
  {
   "cell_type": "code",
   "execution_count": null,
   "id": "ca85dfc1",
   "metadata": {},
   "outputs": [
    {
     "name": "stdout",
     "output_type": "stream",
     "text": [
      "<class 'list'>\n"
     ]
    }
   ],
   "source": [
    "print(type(total_amount_of_loan_collected_by_customers))"
   ]
  },
  {
   "cell_type": "code",
   "execution_count": null,
   "id": "4e73fce1",
   "metadata": {},
   "outputs": [
    {
     "name": "stdout",
     "output_type": "stream",
     "text": [
      "[890, 32.98, 124.8, 632.0, 267.0, 458.09, 111.894, 500.89, 490.43]\n"
     ]
    }
   ],
   "source": [
    "print(total_amount_of_loan_collected_by_customers)"
   ]
  },
  {
   "cell_type": "code",
   "execution_count": null,
   "id": "37f17227",
   "metadata": {},
   "outputs": [
    {
     "name": "stdout",
     "output_type": "stream",
     "text": [
      "9\n"
     ]
    }
   ],
   "source": [
    "print(len(total_amount_of_loan_collected_by_customers))"
   ]
  },
  {
   "cell_type": "code",
   "execution_count": null,
   "id": "b9bf921b",
   "metadata": {},
   "outputs": [],
   "source": [
    "total_amount_of_loan_collected_by_customers.append(800.365)"
   ]
  },
  {
   "cell_type": "code",
   "execution_count": null,
   "id": "c73fc0be",
   "metadata": {},
   "outputs": [],
   "source": [
    "total_amount_of_loan_collected_by_customers.append(395.11)"
   ]
  },
  {
   "cell_type": "code",
   "execution_count": null,
   "id": "195193ae",
   "metadata": {},
   "outputs": [
    {
     "name": "stdout",
     "output_type": "stream",
     "text": [
      "[890, 32.98, 124.8, 632.0, 267.0, 458.09, 111.894, 500.89, 490.43, 800.365, 800.365, 395.11]\n"
     ]
    }
   ],
   "source": [
    "print(total_amount_of_loan_collected_by_customers)"
   ]
  },
  {
   "cell_type": "code",
   "execution_count": null,
   "id": "60817c4c",
   "metadata": {},
   "outputs": [
    {
     "name": "stdout",
     "output_type": "stream",
     "text": [
      "12\n"
     ]
    }
   ],
   "source": [
    "print(len(total_amount_of_loan_collected_by_customers))"
   ]
  },
  {
   "cell_type": "code",
   "execution_count": null,
   "id": "81b655ec",
   "metadata": {},
   "outputs": [],
   "source": [
    "total_amount_of_loan_collected_by_customers.remove(32.98)"
   ]
  },
  {
   "cell_type": "code",
   "execution_count": null,
   "id": "8efec034",
   "metadata": {},
   "outputs": [],
   "source": []
  },
  {
   "cell_type": "code",
   "execution_count": null,
   "id": "0a5bc31e",
   "metadata": {},
   "outputs": [
    {
     "name": "stdout",
     "output_type": "stream",
     "text": [
      "[890, 124.8, 632.0, 267.0, 458.09]\n"
     ]
    }
   ],
   "source": [
    "print(total_amount_of_loan_collected_by_customers[0:5])"
   ]
  },
  {
   "cell_type": "code",
   "execution_count": null,
   "id": "5dd902ab",
   "metadata": {},
   "outputs": [
    {
     "name": "stdout",
     "output_type": "stream",
     "text": [
      "[890, 124.8, 632.0]\n"
     ]
    }
   ],
   "source": [
    "print(total_amount_of_loan_collected_by_customers[:3])"
   ]
  },
  {
   "cell_type": "code",
   "execution_count": null,
   "id": "9faf0847",
   "metadata": {},
   "outputs": [
    {
     "name": "stdout",
     "output_type": "stream",
     "text": [
      "[111.894, 500.89, 490.43, 800.365, 800.365, 395.11]\n"
     ]
    }
   ],
   "source": [
    "print(total_amount_of_loan_collected_by_customers[5:])"
   ]
  },
  {
   "cell_type": "code",
   "execution_count": null,
   "id": "3a40f547",
   "metadata": {},
   "outputs": [],
   "source": []
  },
  {
   "cell_type": "code",
   "execution_count": null,
   "id": "6ebdb789",
   "metadata": {},
   "outputs": [],
   "source": [
    "convert_total_amount_of_loan_collected_by_customers_to_tuple =tuple(total_amount_of_loan_collected_by_customers)"
   ]
  },
  {
   "cell_type": "code",
   "execution_count": null,
   "id": "38d65607",
   "metadata": {},
   "outputs": [
    {
     "name": "stdout",
     "output_type": "stream",
     "text": [
      "(890, 124.8, 632.0, 267.0, 458.09, 111.894, 500.89, 490.43, 800.365, 800.365, 395.11)\n"
     ]
    }
   ],
   "source": [
    "print(convert_total_amount_of_loan_collected_by_customers_to_tuple)"
   ]
  },
  {
   "cell_type": "code",
   "execution_count": null,
   "id": "12803b41",
   "metadata": {},
   "outputs": [],
   "source": [
    "print(type(convert_total_amount_of_loan_collected_by_customers_to_tuple))"
   ]
  },
  {
   "cell_type": "code",
   "execution_count": null,
   "id": "bd13ca63",
   "metadata": {},
   "outputs": [],
   "source": []
  }
 ],
 "metadata": {
  "kernelspec": {
   "display_name": "Python 3 (ipykernel)",
   "language": "python",
   "name": "python3"
  },
  "language_info": {
   "codemirror_mode": {
    "name": "ipython",
    "version": 3
   },
   "file_extension": ".py",
   "mimetype": "text/x-python",
   "name": "python",
   "nbconvert_exporter": "python",
   "pygments_lexer": "ipython3",
   "version": "3.11.3"
  }
 },
 "nbformat": 4,
 "nbformat_minor": 5
}
